{
 "cells": [
  {
   "cell_type": "code",
   "execution_count": 7,
   "metadata": {},
   "outputs": [],
   "source": [
    "import numpy as np"
   ]
  },
  {
   "cell_type": "code",
   "execution_count": 8,
   "metadata": {},
   "outputs": [],
   "source": [
    "#Make a wheel controller based on the keyboard input w,a,s,d:\n",
    "# w - forward\n",
    "# s - backward\n",
    "# a - left\n",
    "# d - right\n",
    "\n",
    "def wheel_controller(input):\n",
    "    #Input: w,a,s,d\n",
    "    #Output: wheel control\n",
    "    if(input == 'w'):\n",
    "        return([1,1, 0])\n",
    "    elif(input == 's'):\n",
    "        return([-1,-1, 0])\n",
    "    elif(input == 'a'):\n",
    "        return([-1,1, -np.pi/2])\n",
    "    elif(input == 'd'):\n",
    "        return([1,-1, np.pi/2])\n",
    "    else:\n",
    "        return([0,0,0])\n",
    "\n",
    "        \n",
    "\n",
    "\n"
   ]
  },
  {
   "cell_type": "code",
   "execution_count": 30,
   "metadata": {},
   "outputs": [],
   "source": []
  },
  {
   "cell_type": "code",
   "execution_count": 9,
   "metadata": {},
   "outputs": [],
   "source": [
    "def robot_walk(control_commands):\n",
    "    [x,y] = [0,0]\n",
    "    orientation = 0\n",
    "    commands = control_commands\n",
    "    #robot positions:\n",
    "    pos = []\n",
    "\n",
    "    while(commands != \"\"):\n",
    "        dt = 0.5\n",
    "        input = commands[0]\n",
    "        [dx,dy, dtheta] = wheel_controller(input)\n",
    "        orientation = orientation + dtheta\n",
    "        v = (dx+dy)/2\n",
    "        [x,y] = [x+dt*v*np.sin(orientation) ,y+dt*v*np.cos(orientation)]\n",
    "        commands = commands[1:]\n",
    "        pos.append([x,y])\n",
    "    return(pos)"
   ]
  },
  {
   "cell_type": "code",
   "execution_count": 19,
   "metadata": {},
   "outputs": [],
   "source": [
    "def wall_regions(wall1, wall2):\n",
    "    #Check if the robot collides with the wall\n",
    "    #pos - robot positions\n",
    "    #wall1, wall2 - wall coordinates\n",
    "    \n",
    "    #Walled Regions:\n",
    "    walled_regions = []\n",
    "    for i in range(min(len(wall1),len(wall2))-1):\n",
    "        [xl1,yl1] = wall1[i]\n",
    "        [xr1,yr1] = wall2[i]\n",
    "        [xl2,yl2] = wall1[i+1]\n",
    "        [xr2,yr2] = wall2[i+1]\n",
    "        xw0 = min(xl1,xr1,xl2,xr2)\n",
    "        xw1 = max(xl1,xr1,xl2,xr2)\n",
    "        yw0 = min(yl1,yr1,yl2,yr2)\n",
    "        yw1 = max(yl1,yr1,yl2,yr2)\n",
    "        walled_regions.append([[xw0,yw0],[xw1,yw1]])\n",
    "\n",
    "    return walled_regions\n",
    "\n",
    "def check_collision(pos, wallreg):    \n",
    "    collision = False\n",
    "    col_x = 0\n",
    "    col_y = 0\n",
    "    for i in range(len(pos)):\n",
    "        [x,y] = pos[i]\n",
    "        collision = True\n",
    "        col_x = x\n",
    "        col_y = y\n",
    "        for j in range(len(wallreg)):\n",
    "            [xw0,yw0] = wallreg[j][0]\n",
    "            [xw1,yw1] = wallreg[j][1]\n",
    "            if(xw0 <= x <= xw1 and yw0 <= y <= yw1):\n",
    "                collision = False\n",
    "                break\n",
    "        if(collision):\n",
    "            break\n",
    "    return(collision, col_x, col_y, i)"
   ]
  },
  {
   "cell_type": "code",
   "execution_count": 21,
   "metadata": {},
   "outputs": [
    {
     "data": {
      "image/png": "[encoded data removed]",
      "text/plain": [
       "<Figure size 640x480 with 1 Axes>"
      ]
     },
     "metadata": {},
     "output_type": "display_data"
    }
   ],
   "source": [
    "import matplotlib.pyplot as plt\n",
    "\n",
    "wall_1_coords = [[-1.1,-1.1],[-1.1,7.1],[5.6,7.1],[5.6,5.1],[8.1,5.1]]\n",
    "wall_2_coords = [[1.1,-1.1],[1.1,5.1],[4.1,5.1],[4.1,3.1],[8.1,3.1]]\n",
    "\n",
    "#plot the walls\n",
    "plt.plot([x[0] for x in wall_1_coords],[x[1] for x in wall_1_coords],'b')\n",
    "plt.plot([x[0] for x in wall_2_coords],[x[1] for x in wall_2_coords],'b')\n",
    "control_commands = \"wwwwwwwwwwwwwdwwwwwwwwwwwwwwwwwwwwdwwwwawwwwww\"\n",
    "pos = robot_walk(control_commands)\n",
    "\n",
    "#plot the robot\n",
    "wallreg = wall_regions(wall_1_coords, wall_2_coords)\n",
    "check_col = False\n",
    "check_col, col_x, col_y, col_index = check_collision(pos, wallreg)\n",
    "if(check_col):\n",
    "    pos = pos[:col_index]\n",
    "    plt.plot(col_x, col_y, 'ro')\n",
    "    \n",
    "plt.plot([x[0] for x in pos],[x[1] for x in pos],'r')\n",
    "plt.show()"
   ]
  }
 ],
 "metadata": {
  "kernelspec": {
   "display_name": "Python 3",
   "language": "python",
   "name": "python3"
  },
  "language_info": {
   "codemirror_mode": {
    "name": "ipython",
    "version": 3
   },
   "file_extension": ".py",
   "mimetype": "text/x-python",
   "name": "python",
   "nbconvert_exporter": "python",
   "pygments_lexer": "ipython3",
   "version": "3.12.0"
  }
 },
 "nbformat": 4,
 "nbformat_minor": 2
}
