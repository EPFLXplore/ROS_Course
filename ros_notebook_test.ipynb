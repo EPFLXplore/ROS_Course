{
 "cells": [
  {
   "cell_type": "code",
   "execution_count": 1,
   "id": "9d50f2a0-5578-4d3a-a08b-78fdd4ff4f73",
   "metadata": {
    "tags": []
   },
   "outputs": [
    {
     "name": "stdout",
     "output_type": "stream",
     "text": [
      "[INFO] [1701787486.570187]: init_node, name[/jupyter_node], pid[4201]\n",
      "[INFO] [1701787486.570538]: XML-RPC server binding to 0.0.0.0:0\n",
      "[INFO] [1701787486.570695]: Started XML-RPC server [http://ubuntu2004:44173/]\n",
      "[INFO] [1701787486.570737]: _ready: http://ubuntu2004:44173/\n",
      "[INFO] [1701787486.570900]: Registering with master node http://localhost:11311\n",
      "[INFO] [1701787486.570946]: xml rpc node: starting XML-RPC server\n",
      "[INFO] [1701787486.578718]: ROS Slave URI: [http://ubuntu2004:44173/]\n",
      "[INFO] [1701787486.578768]: registered with master\n",
      "[INFO] [1701787486.578834]: initializing /rosout core topic\n",
      "[INFO] [1701787486.625531]: connected to core topic /rosout\n",
      "[INFO] [1701787486.626110]: /use_sim_time is not set, will not subscribe to simulated time [/clock] topic\n"
     ]
    },
    {
     "data": {
      "application/vnd.jupyter.widget-view+json": {
       "model_id": "f5a4fb231d8a451ea4a1006aa6e45626",
       "version_major": 2,
       "version_minor": 0
      },
      "text/plain": [
       "VBox(children=(HBox(children=(Button(description='Stop', style=ButtonStyle()),)), Output(layout=Layout(border_…"
      ]
     },
     "execution_count": 1,
     "metadata": {},
     "output_type": "execute_result"
    }
   ],
   "source": [
    "import jupyros as jr\n",
    "import rospy\n",
    "from std_msgs.msg import String\n",
    "from geometry_msgs.msg import Vector3\n",
    "\n",
    "rospy.init_node('jupyter_node')\n",
    "jr.subscribe('/vectortopic', Vector3, lambda msg: print(msg))"
   ]
  },
  {
   "cell_type": "code",
   "execution_count": 2,
   "id": "7faa3b8a-4618-423f-aad2-44e67637bb05",
   "metadata": {},
   "outputs": [
    {
     "data": {
      "application/vnd.jupyter.widget-view+json": {
       "model_id": "66325c0094f243909279502fdb9103e6",
       "version_major": 2,
       "version_minor": 0
      },
      "text/plain": [
       "VBox(children=(HBox(children=(Label(value='x', layout=Layout(width='100px')), FloatText(value=0.0))), HBox(chi…"
      ]
     },
     "execution_count": 2,
     "metadata": {},
     "output_type": "execute_result"
    }
   ],
   "source": [
    "\n",
    "\n",
    "jr.publish('/vectortopic', Vector3)"
   ]
  }
 ],
 "metadata": {
  "kernelspec": {
   "display_name": "Python 3 (ipykernel)",
   "language": "python",
   "name": "python3"
  },
  "language_info": {
   "codemirror_mode": {
    "name": "ipython",
    "version": 3
   },
   "file_extension": ".py",
   "mimetype": "text/x-python",
   "name": "python",
   "nbconvert_exporter": "python",
   "pygments_lexer": "ipython3",
   "version": "3.9.18"
  }
 },
 "nbformat": 4,
 "nbformat_minor": 5
}
